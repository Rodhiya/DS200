{
 "cells": [
  {
   "cell_type": "code",
   "execution_count": 102,
   "metadata": {},
   "outputs": [],
   "source": [
    "import numpy as np\n",
    "import pandas as pd\n",
    "from pandas import DataFrame, read_csv\n",
    "\n",
    "import matplotlib.pyplot as plt\n",
    "from matplotlib.collections import LineCollection\n",
    "from matplotlib.colors import ListedColormap, BoundaryNorm"
   ]
  },
  {
   "cell_type": "code",
   "execution_count": 140,
   "metadata": {},
   "outputs": [],
   "source": [
    "plt.rc('font', size=17)          # controls default text sizes\n",
    "plt.rc('axes', titlesize=17)     # fontsize of the axes title\n",
    "plt.rc('axes', labelsize=17)    # fontsize of the x and y labels\n",
    "plt.rc('xtick', labelsize=15)    # fontsize of the tick labels\n",
    "plt.rc('ytick', labelsize=15)    # fontsize of the tick labels\n",
    "plt.rc('legend', fontsize=11.5)    # legend fontsize\n",
    "plt.rc('figure', titlesize=17)  # fontsize of the figure title"
   ]
  },
  {
   "cell_type": "code",
   "execution_count": 103,
   "metadata": {},
   "outputs": [],
   "source": [
    "file = 'primaryEnergy.xls'"
   ]
  },
  {
   "cell_type": "code",
   "execution_count": 104,
   "metadata": {},
   "outputs": [],
   "source": [
    "df = pd.read_excel(r'primaryEnergy.xls')"
   ]
  },
  {
   "cell_type": "code",
   "execution_count": 105,
   "metadata": {},
   "outputs": [
    {
     "data": {
      "text/html": [
       "<div>\n",
       "<style scoped>\n",
       "    .dataframe tbody tr th:only-of-type {\n",
       "        vertical-align: middle;\n",
       "    }\n",
       "\n",
       "    .dataframe tbody tr th {\n",
       "        vertical-align: top;\n",
       "    }\n",
       "\n",
       "    .dataframe thead th {\n",
       "        text-align: right;\n",
       "    }\n",
       "</style>\n",
       "<table border=\"1\" class=\"dataframe\">\n",
       "  <thead>\n",
       "    <tr style=\"text-align: right;\">\n",
       "      <th></th>\n",
       "      <th>Region</th>\n",
       "      <th>Country/Year</th>\n",
       "      <th>2012</th>\n",
       "      <th>2013</th>\n",
       "      <th>2014</th>\n",
       "      <th>2015</th>\n",
       "      <th>2016</th>\n",
       "      <th>2017</th>\n",
       "      <th>2018 (P)</th>\n",
       "      <th>% share in 2018</th>\n",
       "    </tr>\n",
       "  </thead>\n",
       "  <tbody>\n",
       "    <tr>\n",
       "      <th>0</th>\n",
       "      <td>North America</td>\n",
       "      <td>Canada</td>\n",
       "      <td>324.7</td>\n",
       "      <td>337.0</td>\n",
       "      <td>341.8</td>\n",
       "      <td>339.0</td>\n",
       "      <td>338.2</td>\n",
       "      <td>343.7</td>\n",
       "      <td>344.4</td>\n",
       "      <td>2.5</td>\n",
       "    </tr>\n",
       "    <tr>\n",
       "      <th>1</th>\n",
       "      <td>North America</td>\n",
       "      <td>Mexico</td>\n",
       "      <td>184.2</td>\n",
       "      <td>185.0</td>\n",
       "      <td>184.1</td>\n",
       "      <td>184.0</td>\n",
       "      <td>186.4</td>\n",
       "      <td>189.3</td>\n",
       "      <td>186.9</td>\n",
       "      <td>1.3</td>\n",
       "    </tr>\n",
       "    <tr>\n",
       "      <th>2</th>\n",
       "      <td>North America</td>\n",
       "      <td>US</td>\n",
       "      <td>2148.5</td>\n",
       "      <td>2208.0</td>\n",
       "      <td>2232.9</td>\n",
       "      <td>2213.2</td>\n",
       "      <td>2212.7</td>\n",
       "      <td>2222.5</td>\n",
       "      <td>2300.6</td>\n",
       "      <td>16.6</td>\n",
       "    </tr>\n",
       "    <tr>\n",
       "      <th>3</th>\n",
       "      <td>North America</td>\n",
       "      <td>Total North America</td>\n",
       "      <td>2657.4</td>\n",
       "      <td>2730.1</td>\n",
       "      <td>2758.9</td>\n",
       "      <td>2736.2</td>\n",
       "      <td>2737.2</td>\n",
       "      <td>2755.5</td>\n",
       "      <td>2832.0</td>\n",
       "      <td>20.4</td>\n",
       "    </tr>\n",
       "    <tr>\n",
       "      <th>4</th>\n",
       "      <td>S. &amp; Cent. America</td>\n",
       "      <td>Argentina</td>\n",
       "      <td>81.0</td>\n",
       "      <td>84.5</td>\n",
       "      <td>84.1</td>\n",
       "      <td>86.1</td>\n",
       "      <td>85.9</td>\n",
       "      <td>86.1</td>\n",
       "      <td>85.1</td>\n",
       "      <td>0.6</td>\n",
       "    </tr>\n",
       "    <tr>\n",
       "      <th>...</th>\n",
       "      <td>...</td>\n",
       "      <td>...</td>\n",
       "      <td>...</td>\n",
       "      <td>...</td>\n",
       "      <td>...</td>\n",
       "      <td>...</td>\n",
       "      <td>...</td>\n",
       "      <td>...</td>\n",
       "      <td>...</td>\n",
       "      <td>...</td>\n",
       "    </tr>\n",
       "    <tr>\n",
       "      <th>94</th>\n",
       "      <td>Asia Pacific</td>\n",
       "      <td>Thailand</td>\n",
       "      <td>116.5</td>\n",
       "      <td>118.3</td>\n",
       "      <td>121.6</td>\n",
       "      <td>124.7</td>\n",
       "      <td>127.3</td>\n",
       "      <td>130.2</td>\n",
       "      <td>133.0</td>\n",
       "      <td>1</td>\n",
       "    </tr>\n",
       "    <tr>\n",
       "      <th>95</th>\n",
       "      <td>Asia Pacific</td>\n",
       "      <td>Vietnam</td>\n",
       "      <td>53.4</td>\n",
       "      <td>57.2</td>\n",
       "      <td>62.6</td>\n",
       "      <td>69.1</td>\n",
       "      <td>73.9</td>\n",
       "      <td>75.8</td>\n",
       "      <td>85.8</td>\n",
       "      <td>0.6</td>\n",
       "    </tr>\n",
       "    <tr>\n",
       "      <th>96</th>\n",
       "      <td>Asia Pacific</td>\n",
       "      <td>Other Asia Pacific</td>\n",
       "      <td>48.3</td>\n",
       "      <td>48.8</td>\n",
       "      <td>52.7</td>\n",
       "      <td>53.9</td>\n",
       "      <td>60.5</td>\n",
       "      <td>62.4</td>\n",
       "      <td>65.4</td>\n",
       "      <td>0.5</td>\n",
       "    </tr>\n",
       "    <tr>\n",
       "      <th>97</th>\n",
       "      <td>Asia Pacific</td>\n",
       "      <td>Total Asia Pacific</td>\n",
       "      <td>5121.6</td>\n",
       "      <td>5274.4</td>\n",
       "      <td>5389.6</td>\n",
       "      <td>5475.7</td>\n",
       "      <td>5587.0</td>\n",
       "      <td>5748.0</td>\n",
       "      <td>5985.8</td>\n",
       "      <td>43.2</td>\n",
       "    </tr>\n",
       "    <tr>\n",
       "      <th>98</th>\n",
       "      <td>All World</td>\n",
       "      <td>Total World</td>\n",
       "      <td>12575.5</td>\n",
       "      <td>12819.4</td>\n",
       "      <td>12939.8</td>\n",
       "      <td>13045.6</td>\n",
       "      <td>13228.6</td>\n",
       "      <td>13474.6</td>\n",
       "      <td>13864.9</td>\n",
       "      <td>100</td>\n",
       "    </tr>\n",
       "  </tbody>\n",
       "</table>\n",
       "<p>99 rows × 10 columns</p>\n",
       "</div>"
      ],
      "text/plain": [
       "                Region         Country/Year     2012     2013     2014  \\\n",
       "0        North America               Canada    324.7    337.0    341.8   \n",
       "1        North America               Mexico    184.2    185.0    184.1   \n",
       "2        North America                   US   2148.5   2208.0   2232.9   \n",
       "3        North America  Total North America   2657.4   2730.1   2758.9   \n",
       "4   S. & Cent. America            Argentina     81.0     84.5     84.1   \n",
       "..                 ...                  ...      ...      ...      ...   \n",
       "94        Asia Pacific             Thailand    116.5    118.3    121.6   \n",
       "95        Asia Pacific              Vietnam     53.4     57.2     62.6   \n",
       "96        Asia Pacific   Other Asia Pacific     48.3     48.8     52.7   \n",
       "97        Asia Pacific   Total Asia Pacific   5121.6   5274.4   5389.6   \n",
       "98           All World          Total World  12575.5  12819.4  12939.8   \n",
       "\n",
       "       2015     2016     2017  2018 (P) % share in 2018  \n",
       "0     339.0    338.2    343.7     344.4             2.5  \n",
       "1     184.0    186.4    189.3     186.9             1.3  \n",
       "2    2213.2   2212.7   2222.5    2300.6            16.6  \n",
       "3    2736.2   2737.2   2755.5    2832.0            20.4  \n",
       "4      86.1     85.9     86.1      85.1             0.6  \n",
       "..      ...      ...      ...       ...             ...  \n",
       "94    124.7    127.3    130.2     133.0               1  \n",
       "95     69.1     73.9     75.8      85.8             0.6  \n",
       "96     53.9     60.5     62.4      65.4             0.5  \n",
       "97   5475.7   5587.0   5748.0    5985.8            43.2  \n",
       "98  13045.6  13228.6  13474.6   13864.9             100  \n",
       "\n",
       "[99 rows x 10 columns]"
      ]
     },
     "execution_count": 105,
     "metadata": {},
     "output_type": "execute_result"
    }
   ],
   "source": [
    "df"
   ]
  },
  {
   "cell_type": "code",
   "execution_count": 135,
   "metadata": {},
   "outputs": [],
   "source": [
    "x2012 = []\n",
    "x2013 = []\n",
    "x2014 = []\n",
    "x2015 = []\n",
    "x2016 = []\n",
    "x2017 = []\n",
    "x2018 = []\n",
    "data_box = []\n",
    "for i in range(99):\n",
    "    if (df[dumy[0]][i].split()[0]!=\"Total\"):\n",
    "#         x2012.append[df[dumy[1]][i]]\n",
    "        x2012.append(df[dumy[1]][i])\n",
    "        x2013.append(df[dumy[2]][i])\n",
    "        x2014.append(df[dumy[3]][i])\n",
    "        x2015.append(df[dumy[4]][i])\n",
    "        x2016.append(df[dumy[5]][i])\n",
    "        x2017.append(df[dumy[6]][i])\n",
    "        x2018.append(df[dumy[7]][i])\n",
    "x2012 = np.array(x2012)\n",
    "x2013 = np.array(x2013)\n",
    "x2014 = np.array(x2014)\n",
    "x2015 = np.array(x2015)\n",
    "x2016 = np.array(x2016)\n",
    "x2017 = np.array(x2017)"
   ]
  },
  {
   "cell_type": "code",
   "execution_count": 136,
   "metadata": {},
   "outputs": [],
   "source": [
    "combined = np.vstack((x2012, x2013, x2014, x2015, x2016, x2017, x2018)).T"
   ]
  },
  {
   "cell_type": "code",
   "execution_count": 137,
   "metadata": {
    "scrolled": true
   },
   "outputs": [
    {
     "data": {
      "text/plain": [
       "(91, 7)"
      ]
     },
     "execution_count": 137,
     "metadata": {},
     "output_type": "execute_result"
    }
   ],
   "source": [
    "combined.shape"
   ]
  },
  {
   "cell_type": "code",
   "execution_count": 124,
   "metadata": {},
   "outputs": [
    {
     "data": {
      "text/plain": [
       "[2012, 2013, 2014, 2015, 2016, 2017, '2018 (P)']"
      ]
     },
     "execution_count": 124,
     "metadata": {},
     "output_type": "execute_result"
    }
   ],
   "source": [
    "cols"
   ]
  },
  {
   "cell_type": "code",
   "execution_count": 111,
   "metadata": {
    "collapsed": true
   },
   "outputs": [
    {
     "data": {
      "text/plain": [
       "array([3.4440e+02, 1.8690e+02, 2.3006e+03, 8.5100e+01, 2.9760e+02,\n",
       "       4.0100e+01, 4.6900e+01, 1.7600e+01, 2.7000e+01, 1.5300e+01,\n",
       "       6.4600e+01, 3.3700e+01, 4.2400e+01, 3.1700e+01, 3.5000e+01,\n",
       "       6.2200e+01, 1.8600e+01, 8.6000e+00, 2.8000e+00, 4.2100e+01,\n",
       "       1.7000e+01, 6.9000e+00, 2.9300e+01, 2.4260e+02, 3.2390e+02,\n",
       "       2.8300e+01, 2.3700e+01, 5.6000e+00, 1.6100e+01, 1.5450e+02,\n",
       "       3.7000e+00, 5.8000e+00, 4.0000e+00, 8.4800e+01, 2.6000e+00,\n",
       "       4.7400e+01, 1.0520e+02, 2.6000e+01, 3.3400e+01, 1.6300e+01,\n",
       "       7.0000e+00, 1.4140e+02, 5.3600e+01, 2.7800e+01, 1.5350e+02,\n",
       "       8.4000e+01, 1.9230e+02, 4.4700e+01, 1.4400e+01, 2.4600e+01,\n",
       "       7.6400e+01, 7.2070e+02, 3.1500e+01, 4.3900e+01, 1.9000e+01,\n",
       "       2.8570e+02, 5.3700e+01, 2.5600e+01, 3.9000e+01, 3.0700e+01,\n",
       "       4.8300e+01, 2.5920e+02, 1.1220e+02, 4.7900e+01, 5.6700e+01,\n",
       "       9.4500e+01, 2.1000e+01, 1.2150e+02, 5.4100e+01, 2.2900e+01,\n",
       "       6.0300e+01, 2.5400e+01, 5.0000e+00, 1.4430e+02, 3.5800e+01,\n",
       "       3.2735e+03, 3.1100e+01, 8.0920e+02, 1.8550e+02, 4.5410e+02,\n",
       "       9.9300e+01, 2.1700e+01, 8.5000e+01, 4.7000e+01, 8.7600e+01,\n",
       "       3.0100e+02, 8.1000e+00, 1.1840e+02, 1.3300e+02, 8.5800e+01,\n",
       "       6.5400e+01])"
      ]
     },
     "execution_count": 111,
     "metadata": {},
     "output_type": "execute_result"
    }
   ],
   "source": [
    "x2018"
   ]
  },
  {
   "cell_type": "code",
   "execution_count": 120,
   "metadata": {},
   "outputs": [
    {
     "data": {
      "text/plain": [
       "'Uzbekistan'"
      ]
     },
     "execution_count": 120,
     "metadata": {},
     "output_type": "execute_result"
    }
   ],
   "source": [
    "df[dumy[0]][56]"
   ]
  },
  {
   "cell_type": "code",
   "execution_count": 134,
   "metadata": {},
   "outputs": [],
   "source": [
    "dumy = ['Country/Year', 2012, 2013, 2014, 2015, 2016, 2017, '2018 (P)']"
   ]
  },
  {
   "cell_type": "code",
   "execution_count": 38,
   "metadata": {},
   "outputs": [],
   "source": [
    "row = df[:][99:100]"
   ]
  },
  {
   "cell_type": "code",
   "execution_count": 81,
   "metadata": {},
   "outputs": [],
   "source": [
    "for col in df.columns: \n",
    "    if (col != \"Region\") and (col != \"Country/Year\") and (col != \"2018 (P)\") and (col != \"% share in 2018\"):\n",
    "        array = row[cols].to_numpy()"
   ]
  },
  {
   "cell_type": "code",
   "execution_count": 80,
   "metadata": {},
   "outputs": [],
   "source": [
    "cols = [2012, 2013, 2014, 2015, 2016, 2017, '2018 (P)']"
   ]
  },
  {
   "cell_type": "code",
   "execution_count": 82,
   "metadata": {},
   "outputs": [
    {
     "data": {
      "text/plain": [
       "array([[12575.5, 12819.4, 12939.8, 13045.6, 13228.6, 13474.6, 13864.9]])"
      ]
     },
     "execution_count": 82,
     "metadata": {},
     "output_type": "execute_result"
    }
   ],
   "source": [
    "array"
   ]
  },
  {
   "cell_type": "code",
   "execution_count": 76,
   "metadata": {
    "collapsed": true
   },
   "outputs": [
    {
     "data": {
      "image/png": "[encoded data removed]",
      "text/plain": [
       "<Figure size 360x288 with 1 Axes>"
      ]
     },
     "metadata": {
      "needs_background": "light"
     },
     "output_type": "display_data"
    }
   ],
   "source": [
    "fig, ax = plt.subplots(figsize = (5,4))\n",
    "y1 = array[0,:]\n",
    "width = 0.5\n",
    "ax.bar(np.arange(len(y1)), y1, width=width, color='r')  \n",
    "#ax.set_xticks(idx)\n",
    "#ax.set_xticklabels(years, rotation=65)\n",
    "#x=np.arange(6)\n",
    "#ax.xticks(x,cols)\n",
    "#plt.title(\"Variation among alpha for time averages\")\n",
    "# ax.set_xticks(6)\n",
    "#ax.set_yticks(yt)\n",
    "#ax.set_ylim([0,1])\n",
    "ax.set_xticklabels(cols[0:6])\n",
    "ax.set_ylabel('Total fuel consumption')\n",
    "ax.set_xlabel('Years')    \n",
    "fig.tight_layout()"
   ]
  },
  {
   "cell_type": "code",
   "execution_count": 141,
   "metadata": {
    "scrolled": true
   },
   "outputs": [
    {
     "data": {
      "image/png": "[encoded data removed]",
      "text/plain": [
       "<Figure size 432x288 with 1 Axes>"
      ]
     },
     "metadata": {
      "needs_background": "light"
     },
     "output_type": "display_data"
    }
   ],
   "source": [
    "x1=cols\n",
    "y1=array[0,:]\n",
    "L1 = plt.plot(x1, y1, '-o', color='r', label='Hard boundary')"
   ]
  },
  {
   "cell_type": "code",
   "execution_count": 142,
   "metadata": {
    "scrolled": true
   },
   "outputs": [
    {
     "data": {
      "image/png": "[encoded data removed]",
      "text/plain": [
       "<Figure size 432x288 with 1 Axes>"
      ]
     },
     "metadata": {
      "needs_background": "light"
     },
     "output_type": "display_data"
    }
   ],
   "source": [
    "plt.scatter(x2012,x2018,color='#dd12dd',label=\"State/UT\")\n",
    "# plt.xlim(0,200)\n",
    "# plt.ylim(0,200)\n",
    "plt.yscale(\"log\")\n",
    "plt.xscale(\"log\")"
   ]
  },
  {
   "cell_type": "code",
   "execution_count": 143,
   "metadata": {},
   "outputs": [
    {
     "data": {
      "image/png": "[encoded data removed]",
      "text/plain": [
       "<Figure size 432x288 with 1 Axes>"
      ]
     },
     "metadata": {
      "needs_background": "light"
     },
     "output_type": "display_data"
    }
   ],
   "source": [
    "plt.boxplot(combined)\n",
    "plt.yscale(\"log\")"
   ]
  }
 ],
 "metadata": {
  "kernelspec": {
   "display_name": "Python 3",
   "language": "python",
   "name": "python3"
  },
  "language_info": {
   "codemirror_mode": {
    "name": "ipython",
    "version": 3
   },
   "file_extension": ".py",
   "mimetype": "text/x-python",
   "name": "python",
   "nbconvert_exporter": "python",
   "pygments_lexer": "ipython3",
   "version": "3.7.5"
  }
 },
 "nbformat": 4,
 "nbformat_minor": 2
}
